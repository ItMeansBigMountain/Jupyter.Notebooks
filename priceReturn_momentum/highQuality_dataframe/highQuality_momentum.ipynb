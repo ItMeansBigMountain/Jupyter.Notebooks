{
 "cells": [
  {
   "cell_type": "markdown",
   "metadata": {},
   "source": [
    "BETTER AND MORE REALISTIC MOMENTUM STRATEGY\n",
    "\n",
    "HIGH QUALITY - over a longer period of time, shows a slower and steadier price return\n",
    "\n",
    "LOW QUALITY - an example would be something that showed 0% gain for 11 months and 10% gain on the 12th... it doesnt have the same guarenteed returns that a high quality would provide over time. (its just a heater....)"
   ]
  },
  {
   "cell_type": "code",
   "execution_count": null,
   "metadata": {},
   "outputs": [],
   "source": [
    "import numpy as np\n",
    "import pandas as pd\n",
    "import requests\n",
    "import math\n",
    "from scipy import stats\n",
    "import xlsxwriter\n",
    "from statistics import  mean"
   ]
  },
  {
   "cell_type": "markdown",
   "metadata": {},
   "source": [
    "IMPORTING OUR LIST OF STOCKS\n",
    "\n",
    "INIT API KEY"
   ]
  },
  {
   "cell_type": "code",
   "execution_count": null,
   "metadata": {},
   "outputs": [],
   "source": [
    "# SMP 500 CSV\n",
    "stocks = pd.read_csv(\"sp_500_stocks.csv\")\n",
    "\n",
    "# api\n",
    "IEX_CLOUD_API_TOKEN = ''"
   ]
  },
  {
   "cell_type": "markdown",
   "metadata": {},
   "source": [
    "SORTING ALL STOCKS INTO 2D ARRAY HOLDING A LIST OF 100 STOCKS EACH\n",
    "[\n",
    "    [100],\n",
    "    [100],\n",
    "    [100],\n",
    "    [100],\n",
    "    [100],\n",
    "]\n",
    "\n",
    "TURN EACH LIST INTO A STRING \n",
    "[\n",
    "    'X' * 100 ,\n",
    "    'X' * 100 ,\n",
    "    'X' * 100 ,\n",
    "    'X' * 100 ,\n",
    "    'X' * 100 ,\n",
    "]"
   ]
  },
  {
   "cell_type": "code",
   "execution_count": null,
   "metadata": {},
   "outputs": [],
   "source": [
    "# function to split bigger list into smaller lists\n",
    "def chunks( lst , n  ):\n",
    "    ''' yeild successive n-sized lists from lst'''\n",
    "    for i in range( 0 , len(lst) , n ):\n",
    "        yield lst[i: i + n]\n",
    "\n",
    "# 2 dimentional list with each inner list containing 100 tickers\n",
    "symbol_groups = list(chunks( stocks['Ticker'] , 100  ) )\n",
    "symbol_strings = []\n",
    "\n",
    "# turns each list into usable string for api call\n",
    "for i in range( 0 , len(symbol_groups) , 1  ):\n",
    "    joined_arr =  \",\".join(symbol_groups[i])\n",
    "    symbol_strings.append( joined_arr )\n"
   ]
  },
  {
   "cell_type": "markdown",
   "metadata": {},
   "source": [
    "CREATING FINAL OUTPUT PANDAS DATAFRAME"
   ]
  },
  {
   "cell_type": "code",
   "execution_count": null,
   "metadata": {},
   "outputs": [],
   "source": [
    "# creating columns for dataframe\n",
    "hqm_columns = [\n",
    "    'Ticker',\n",
    "    'Price',\n",
    "    'Number of Shares To Buy',\n",
    "    'One-Year Price Return',\n",
    "    'One-Year Return Percentile',\n",
    "    'Six-Month Price Return',\n",
    "    'Six-Month Return Percentile',\n",
    "    'Three-Month Price Return',\n",
    "    'Three-Month Return Percentile',\n",
    "    'One-Month Price Return',\n",
    "    'One-Month Return Percentile',\n",
    "    'Percentile Score'\n",
    "]\n",
    "\n",
    "final_dataframe = pd.DataFrame(columns = hqm_columns)"
   ]
  },
  {
   "cell_type": "markdown",
   "metadata": {},
   "source": [
    "BATCH API CALLS TO GET PRICES AND STATS"
   ]
  },
  {
   "cell_type": "code",
   "execution_count": null,
   "metadata": {},
   "outputs": [],
   "source": [
    "# create url for each list of 100 stocks\n",
    "# request data for the sub list\n",
    "for group_string in symbol_strings:\n",
    "    batch_api_call = f\"https://sandbox.iexapis.com/stable/stock/market/batch?symbols={group_string}&types=advanced-stats,price&token={IEX_CLOUD_API_TOKEN}\"\n",
    "    data = requests.get( batch_api_call ).json()\n",
    "\n",
    "    # arr of every ticker in sub list\n",
    "    stock_array_in_sub_list = group_string.split(',')\n",
    "    for symbol in stock_array_in_sub_list:\n",
    "        price = data[symbol]['price']\n",
    "        oneYear_price_return = data[symbol]['advanced-stats']['year1ChangePercent']\n",
    "        sixMonths_price_return = data[symbol]['advanced-stats']['month6ChangePercent']\n",
    "        threeMonths_price_return = data[symbol]['advanced-stats']['month3ChangePercent']\n",
    "        oneMonth_price_return = data[symbol]['advanced-stats']['month1ChangePercent']\n",
    "        \n",
    "        #NOTE ***** append to final_dataframe *****\n",
    "        final_dataframe = final_dataframe.append(\n",
    "            pd.Series(\n",
    "                [\n",
    "                    symbol,\n",
    "                    price,\n",
    "                    \"N/A\",\n",
    "                    oneYear_price_return,\n",
    "                    \"N/A\",\n",
    "                    sixMonths_price_return,\n",
    "                    \"N/A\",\n",
    "                    threeMonths_price_return,\n",
    "                    \"N/A\",\n",
    "                    oneMonth_price_return,\n",
    "                    \"N/A\",\n",
    "                    \"N/A\",\n",
    "                ],\n",
    "                index = hqm_columns\n",
    "            ),\n",
    "            ignore_index = True\n",
    "        )\n",
    "\n",
    "\n",
    "# final_dataframe"
   ]
  },
  {
   "cell_type": "markdown",
   "metadata": {},
   "source": [
    "CALCULATING MOMENTUM PERCENTILES"
   ]
  },
  {
   "cell_type": "code",
   "execution_count": null,
   "metadata": {},
   "outputs": [],
   "source": [
    "time_periods = [\n",
    "    'One-Year',\n",
    "    'Six-Month',\n",
    "    'Three-Month',\n",
    "    'One-Month',\n",
    "]\n",
    "\n",
    "# turn none types into zeros\n",
    "for row in final_dataframe.index:\n",
    "    for period in time_periods:\n",
    "        if final_dataframe.loc[row,f'{period} Price Return'] == None:\n",
    "            # print(final_dataframe.loc[row,f'Ticker'] , period)\n",
    "            final_dataframe.loc[row,f'{period} Price Return']=0\n",
    "\n",
    "# take every time period column and the current looped row price return\n",
    "# check current looped row price return with every other stock price return\n",
    "# find the rating percent\n",
    "    # example:\n",
    "        # apples 1 year price return was placed in the top 60%\n",
    "for row in final_dataframe.index:\n",
    "    for period in time_periods:\n",
    "        change_col = f'{period} Price Return'\n",
    "        final_dataframe.loc[ row  , f'{period} Return Percentile'  ] = stats.percentileofscore(\n",
    "            final_dataframe[ change_col ], #all price returns (base calculation from)\n",
    "            final_dataframe.loc[ row  , change_col  ] #current return (check whole col and find where this number stands [higher or lower?])\n",
    "        ) / 100\n",
    "\n",
    "\n",
    "# final_dataframe"
   ]
  },
  {
   "cell_type": "markdown",
   "metadata": {},
   "source": [
    "CALCULATING HQM SCORE\n",
    "\n",
    "high quality momentum score - mean of all time periods scores for each stock\n",
    "\n",
    "\"the average of where the stock stands against the other stocks for it's yearly preformance\""
   ]
  },
  {
   "cell_type": "code",
   "execution_count": null,
   "metadata": {},
   "outputs": [],
   "source": [
    "for row in final_dataframe.index:\n",
    "    momentum_percentiles = []\n",
    "    # add all percentile scores to momentum_percentiles\n",
    "    for period in time_periods:\n",
    "        momentum_percentiles.append( final_dataframe.loc[ row  , f'{period} Return Percentile'  ]    )\n",
    "    \n",
    "    # find average of yearly preformance (momentum_percentiles) & append it to the dataframe\n",
    "    annual_preformance_avg = mean(momentum_percentiles)\n",
    "    final_dataframe.loc[ row ,  'Percentile Score'  ] = annual_preformance_avg\n",
    "    \n",
    "# final_dataframe"
   ]
  },
  {
   "cell_type": "markdown",
   "metadata": {},
   "source": [
    "FINDING TOP 50 BEST YEARLY PREFORMANCE PERCENTILE AVERAGES"
   ]
  },
  {
   "cell_type": "code",
   "execution_count": null,
   "metadata": {},
   "outputs": [],
   "source": [
    "# Sorting values in DECENDING order and saving it for later use using INPLACE = TRUE\n",
    "final_dataframe.sort_values( \"Percentile Score\" , ascending = False , inplace = True   )\n",
    "\n",
    "# save final_dataframe[:50] as original \n",
    "final_dataframe = final_dataframe[:50]\n",
    "\n",
    "# Resetting index of sorted data_frame\n",
    "final_dataframe.reset_index(  inplace = True , drop = True )\n",
    "\n",
    "# # removing Old Index Column\n",
    "# final_dataframe.drop(labels='index', axis= 'columns', inplace=True, errors='raise')\n",
    "\n",
    "# final_dataframe"
   ]
  },
  {
   "cell_type": "markdown",
   "metadata": {},
   "source": [
    "CALCULATING THE NUMBER OF SHARES TO BUY"
   ]
  },
  {
   "cell_type": "code",
   "execution_count": null,
   "metadata": {},
   "outputs": [],
   "source": [
    "# validate user input for portfollio size '$$$'\n",
    "def user_portfollio_size_input(portfollio_size):\n",
    "    try:\n",
    "        val = float(portfollio_size)\n",
    "        print(f\"Your have entered: ${val}\\n\")\n",
    "        return True\n",
    "    except ValueError:\n",
    "        print(\"ERROR: Please type a numerical value\")\n",
    "        return False\n",
    "\n",
    "portfollio_size = input(\"Please enter value of your portfollio: $\")\n",
    "while not user_portfollio_size_input(portfollio_size):\n",
    "    portfollio_size = input(\"Please enter value of your portfollio: $\")"
   ]
  },
  {
   "cell_type": "code",
   "execution_count": null,
   "metadata": {},
   "outputs": [],
   "source": [
    "# calculate position size\n",
    "position_size = float(portfollio_size) / len(final_dataframe.index)\n",
    "print(f\"Your position size is ${'{:,.2f}'.format(position_size)}\")"
   ]
  },
  {
   "cell_type": "code",
   "execution_count": null,
   "metadata": {},
   "outputs": [],
   "source": [
    "# update final data frame\n",
    "for x in range(0 , len(final_dataframe) , 1):\n",
    "    final_dataframe.loc[x , \"Number of Shares To Buy\"] =  position_size /  final_dataframe.loc[x , \"Price\"]\n",
    "\n",
    "\n",
    "final_dataframe"
   ]
  },
  {
   "cell_type": "markdown",
   "metadata": {},
   "source": [
    "CREATING EXCEL FILE"
   ]
  },
  {
   "cell_type": "code",
   "execution_count": null,
   "metadata": {},
   "outputs": [],
   "source": [
    "# init writer objects\n",
    "writer = pd.ExcelWriter('hqm_dataframe.xlsx' , engine='xlsxwriter')\n",
    "final_dataframe.to_excel(writer , \"High Quality Movement\" , index = False)\n",
    "\n",
    "# writer style init\n",
    "font_color = \"ffffff\"\n",
    "background_color = \"#0a0a23\"\n",
    "\n",
    "# format style init\n",
    "string_format = writer.book.add_format(\n",
    "    {\n",
    "        'font_color' : font_color,\n",
    "        \"bg_color\" : background_color,\n",
    "        \"border\" : 1\n",
    "    }\n",
    ")\n",
    "dollar_format = writer.book.add_format(\n",
    "    {\n",
    "        'num_format' : \"$0.00\",\n",
    "        'font_color' : font_color,\n",
    "        \"bg_color\" : background_color,\n",
    "        \"border\" : 1\n",
    "    }\n",
    ")\n",
    "float_format = writer.book.add_format(\n",
    "    {\n",
    "        'num_format' : \"0.00\",\n",
    "        'font_color' : font_color,\n",
    "        \"bg_color\" : background_color,\n",
    "        \"border\" : 1\n",
    "    }\n",
    ")\n",
    "percent_format = writer.book.add_format(\n",
    "    {\n",
    "        'num_format' : \"0.00%\",\n",
    "        'font_color' : font_color,\n",
    "        \"bg_color\" : background_color,\n",
    "        \"border\" : 1\n",
    "    }\n",
    ")\n",
    "\n",
    "\n",
    "# applying formats to .xlsx file\n",
    "column_formats = {\n",
    "    'A' : ['Ticker' , string_format],\n",
    "    'B' : ['Price' , dollar_format],\n",
    "    'C' : ['Number of Shares To Buy' , float_format],\n",
    "    'D' : ['One-Year Price Return' , percent_format],\n",
    "    'E' : ['One-Year Return Percentile' , percent_format],\n",
    "    'F' : ['Six-Month Price Return' , percent_format],\n",
    "    'G' : ['Six-Month Return Percentile' , percent_format],\n",
    "    'H' : ['Three-Month Price Return' , percent_format],\n",
    "    'I' : ['Three-Month Return Percentile' , percent_format],\n",
    "    'J' : ['One-Month Price Return' , percent_format],\n",
    "    'K' : ['One-Month Return Percentile' , percent_format],\n",
    "    'L' : ['Percentile Score' , percent_format],\n",
    "}\n",
    "# loop through formats and apply to excel sheet columns\n",
    "for col in  column_formats.keys():\n",
    "    # columns format\n",
    "    writer.sheets[\"High Quality Movement\"].set_column( f\"{col}:{col}\" , 25 , column_formats[col][1] )\n",
    "\n",
    "    # headers format\n",
    "    writer.sheets[\"High Quality Movement\"].write( f\"{col}1\" , column_formats[col][0] , column_formats[col][1] )\n",
    "\n",
    "# SAVE .xlsx\n",
    "writer.save()\n",
    "# SAVE INPUTS\n",
    "with open(\"user_inputs.txt\" , \"w\") as f:\n",
    "    f.write( f\"Amount Specified: ${float(portfollio_size)}\\n\"  )\n",
    "    f.write( f\"Amount Invested Into Each Stock: ${position_size}\"  )"
   ]
  }
 ],
 "metadata": {
  "interpreter": {
   "hash": "b2762b5f3fa64b4bddd7b815ada8e289236e6457979796da29c66f5658721800"
  },
  "kernelspec": {
   "display_name": "Python 3.8.3 64-bit",
   "language": "python",
   "name": "python3"
  },
  "language_info": {
   "codemirror_mode": {
    "name": "ipython",
    "version": 3
   },
   "file_extension": ".py",
   "mimetype": "text/x-python",
   "name": "python",
   "nbconvert_exporter": "python",
   "pygments_lexer": "ipython3",
   "version": "3.8.3"
  },
  "orig_nbformat": 4
 },
 "nbformat": 4,
 "nbformat_minor": 2
}
