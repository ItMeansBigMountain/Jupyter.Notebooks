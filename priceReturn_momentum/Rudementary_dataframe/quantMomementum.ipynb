{
 "cells": [
  {
   "cell_type": "markdown",
   "metadata": {},
   "source": [
    "QUANITATIVE MOMENTUM STRATEGY\n",
    "\n",
    "Momentum investing means investing in stocks that have increaded in price the most\n",
    "\n",
    "select 50 stocks with the heighest price Momentum. from there we recommend stocks with equal weight\n"
   ]
  },
  {
   "cell_type": "code",
   "execution_count": null,
   "metadata": {},
   "outputs": [],
   "source": [
    "import numpy as np\n",
    "import pandas as pd\n",
    "import requests\n",
    "import math\n",
    "from scipy import stats\n",
    "import xlsxwriter"
   ]
  },
  {
   "cell_type": "markdown",
   "metadata": {},
   "source": [
    "IMPORTING OUR LIST OF STOCKS\n",
    "\n",
    "INIT API KEY"
   ]
  },
  {
   "cell_type": "code",
   "execution_count": null,
   "metadata": {},
   "outputs": [],
   "source": [
    "# SMP 500 CSV\n",
    "stocks = pd.read_csv(\"sp_500_stocks.csv\")\n",
    "\n",
    "# api\n",
    "IEX_CLOUD_API_TOKEN = ''"
   ]
  },
  {
   "cell_type": "markdown",
   "metadata": {},
   "source": [
    "SORTING ALL STOCKS INTO 2D ARRAY HOLDING A LIST OF 100 STOCKS EACH\n",
    "[\n",
    "    [100],\n",
    "    [100],\n",
    "    [100],\n",
    "    [100],\n",
    "    [100],\n",
    "]\n",
    "\n",
    "TURN EACH LIST INTO A STRING \n",
    "[\n",
    "    'X' * 100 ,\n",
    "    'X' * 100 ,\n",
    "    'X' * 100 ,\n",
    "    'X' * 100 ,\n",
    "    'X' * 100 ,\n",
    "]"
   ]
  },
  {
   "cell_type": "code",
   "execution_count": null,
   "metadata": {},
   "outputs": [],
   "source": [
    "# function to split bigger list into smaller lists\n",
    "def chunks( lst , n  ):\n",
    "    ''' yeild successive n-sized lists from lst'''\n",
    "    for i in range( 0 , len(lst) , n ):\n",
    "        yield lst[i: i + n]\n",
    "\n",
    "# 2 dimentional list with each inner list containing 100 tickers\n",
    "symbol_groups = list(chunks( stocks['Ticker'] , 100  ) )\n",
    "symbol_strings = []\n",
    "\n",
    "# turns each list into usable string for api call\n",
    "for i in range( 0 , len(symbol_groups) , 1  ):\n",
    "    joined_arr =  \",\".join(symbol_groups[i])\n",
    "    symbol_strings.append( joined_arr )\n"
   ]
  },
  {
   "cell_type": "markdown",
   "metadata": {},
   "source": [
    "CREATING FINAL OUTPUT PANDAS DATAFRAME"
   ]
  },
  {
   "cell_type": "code",
   "execution_count": null,
   "metadata": {},
   "outputs": [],
   "source": [
    "# creating columns for pandas dataFrame  *** FOR LATER USER ***\n",
    "my_columns = [  \"Ticker\"  , \"Price\" , \"One-Year Price Return\" , 'Numbers of Shares To Buy'   ]\n",
    "final_dataframe = pd.DataFrame(  columns=my_columns   )"
   ]
  },
  {
   "cell_type": "markdown",
   "metadata": {},
   "source": [
    "MAKING BATCH API CALL"
   ]
  },
  {
   "cell_type": "code",
   "execution_count": null,
   "metadata": {},
   "outputs": [],
   "source": [
    "# create url for each list of 100 stocks\n",
    "# request data for the sub list\n",
    "for group_string in symbol_strings:\n",
    "    batch_api_call = f\"https://sandbox.iexapis.com/stable/stock/market/batch?symbols={group_string}&types=advanced-stats,price&token={IEX_CLOUD_API_TOKEN}\"\n",
    "    data = requests.get( batch_api_call ).json()\n",
    "\n",
    "    # arr of every ticker in sub list\n",
    "    stock_array_in_sub_list = group_string.split(',')\n",
    "    for symbol in stock_array_in_sub_list:\n",
    "        price = data[symbol]['price']\n",
    "        oneYear_price_return = data[symbol]['advanced-stats']['year1ChangePercent']\n",
    "        # append to final_dataframe\n",
    "        final_dataframe = final_dataframe.append(  pd.Series( [symbol , price , oneYear_price_return , \"N/A\"] , index=my_columns )    ,   ignore_index=True  )\n",
    "\n",
    "\n",
    "# final_dataframe"
   ]
  },
  {
   "cell_type": "markdown",
   "metadata": {},
   "source": [
    "REMOVING LOW MOMENTUM STOCKS\n",
    "\n",
    "\"we are seeking to get the 50 highest momentum stocks in the SMP-500\""
   ]
  },
  {
   "cell_type": "code",
   "execution_count": null,
   "metadata": {},
   "outputs": [],
   "source": [
    "# Sorting values in DECENDING order and saving it for later use using INPLACE = TRUE\n",
    "final_dataframe.sort_values( \"One-Year Price Return\" , ascending = False , inplace = True  )\n",
    "\n",
    "# save final_dataframe[:50] as original \n",
    "final_dataframe = final_dataframe[:50]\n",
    "\n",
    "# Resetting index of sorted data_frame\n",
    "final_dataframe.reset_index(  inplace = True  )\n",
    "\n",
    "# # removing Old Index Column\n",
    "final_dataframe.drop(labels='index', axis= 'columns', inplace=True, errors='raise')\n",
    "\n",
    "final_dataframe"
   ]
  },
  {
   "cell_type": "markdown",
   "metadata": {},
   "source": [
    "CALCULATING NUMBER OF SHARES TO BUY"
   ]
  },
  {
   "cell_type": "code",
   "execution_count": null,
   "metadata": {},
   "outputs": [],
   "source": [
    "# validate user input for portfollio size '$$$'\n",
    "def user_portfollio_size_input(portfollio_size):\n",
    "    try:\n",
    "        val = float(portfollio_size)\n",
    "        print(f\"Your have entered: ${val}\\n\")\n",
    "        return True\n",
    "    except ValueError:\n",
    "        print(\"ERROR: Please type a numerical value\")\n",
    "        return False\n",
    "\n",
    "portfollio_size = input(\"Please enter value of your portfollio: $\")\n",
    "while not user_portfollio_size_input(portfollio_size):\n",
    "    portfollio_size = input(\"Please enter value of your portfollio: $\")"
   ]
  },
  {
   "cell_type": "code",
   "execution_count": null,
   "metadata": {},
   "outputs": [],
   "source": [
    "# calculate position size\n",
    "position_size = float(portfollio_size) / len(final_dataframe.index)\n",
    "print(f\"Your position size is ${'{:,.2f}'.format(position_size)}\")"
   ]
  },
  {
   "cell_type": "code",
   "execution_count": null,
   "metadata": {},
   "outputs": [],
   "source": [
    "# update final data frame\n",
    "for x in range(0 , len(final_dataframe) , 1):\n",
    "    final_dataframe.loc[x , \"Numbers of Shares To Buy\"] =  position_size /  final_dataframe.loc[x , \"Price\"]\n",
    "\n",
    "\n",
    "final_dataframe"
   ]
  }
 ],
 "metadata": {
  "interpreter": {
   "hash": "b2762b5f3fa64b4bddd7b815ada8e289236e6457979796da29c66f5658721800"
  },
  "kernelspec": {
   "display_name": "Python 3.8.3 64-bit",
   "language": "python",
   "name": "python3"
  },
  "language_info": {
   "codemirror_mode": {
    "name": "ipython",
    "version": 3
   },
   "file_extension": ".py",
   "mimetype": "text/x-python",
   "name": "python",
   "nbconvert_exporter": "python",
   "pygments_lexer": "ipython3",
   "version": "3.8.3"
  },
  "orig_nbformat": 4
 },
 "nbformat": 4,
 "nbformat_minor": 2
}
