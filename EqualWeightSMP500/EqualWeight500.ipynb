{
 "cells": [
  {
   "cell_type": "markdown",
   "metadata": {},
   "source": [
    "Equal Weight SMP 500 Index fund\n",
    "\n",
    "\n",
    "    every stock will have equal distrubution"
   ]
  },
  {
   "cell_type": "code",
   "execution_count": null,
   "metadata": {},
   "outputs": [],
   "source": [
    "import numpy as np\n",
    "import pandas as pd\n",
    "import requests\n",
    "import xlsxwriter\n",
    "import math\n",
    "from pprint import pprint"
   ]
  },
  {
   "cell_type": "markdown",
   "metadata": {},
   "source": [
    "Importing smp 500 csv file\n",
    "\n",
    "since this is using free resources, we have a year 2020 list of SMP500 stocks in a CSV file\n",
    "\n",
    "We then save the CSV file into a pandas data frame\n",
    "    "
   ]
  },
  {
   "cell_type": "code",
   "execution_count": null,
   "metadata": {},
   "outputs": [],
   "source": [
    "stocks = pd.read_csv(\"sp_500_stocks.csv\")"
   ]
  },
  {
   "cell_type": "markdown",
   "metadata": {},
   "source": [
    "Aquire API token\n",
    "\n",
    "IEX cloud API token (sandbox mode)\n",
    "\n",
    "best practice is to make a secrets.py file and import the token from there... we would ignore this file in a git push\n",
    "\n",
    "SINCE THIS IS A FREE SANDBOX API CODE, THERE IS NO REASON TO SAVE AS NEW FILE.... BUT KEEP IN MIND !!!!\n"
   ]
  },
  {
   "cell_type": "code",
   "execution_count": null,
   "metadata": {},
   "outputs": [],
   "source": [
    "IEX_CLOUD_API_TOKEN = ''\n",
    "\n",
    "# creating columns for pandas dataFrame  *** FOR LATER USER ***\n",
    "my_columns = [  \"Ticker\"  , \"Stock Price\" , \"Market Capitalization\" , 'Numbers of Shares To Buy'   ]\n",
    "final_dataframe = pd.DataFrame(  columns=my_columns   )"
   ]
  },
  {
   "cell_type": "markdown",
   "metadata": {},
   "source": [
    "API CALL (single requests)\n",
    "\n",
    "we will for loop through the data frame and capture following data points\n",
    "\n",
    "market capitalization for each stock\n",
    "\n",
    "price of each stock\n",
    "\n",
    "\n",
    "\n",
    "** Adding our stocks data to pandas DataFrame ** ---> [ticker , stock price , market cap , numbers of shares to buy]"
   ]
  },
  {
   "cell_type": "code",
   "execution_count": null,
   "metadata": {},
   "outputs": [],
   "source": [
    "# for symbol in stocks['Ticker']:\n",
    "#     api_url = f\"https://sandbox.iexapis.com/stable/stock/{symbol}/quote/?token={IEX_CLOUD_API_TOKEN}\"\n",
    "#     data = requests.get(api_url).json()\n",
    "#     price = data['latestPrice']\n",
    "#     market_cap = data['marketCap']\n",
    "#     # adding a row to the pandas dataFrame\n",
    "#     # WHEN APPENDING TO PANDAS DATAFRAMES, WE NEED TO ADD THE  ignore_index=True as a second parameter\n",
    "#     # PANDAS SERIES NEEDS INDEXING FROM my_colmns var as a second parameter\n",
    "#     final_dataframe = final_dataframe.append(  pd.Series( [symbol , price , market_cap , \"N/A\"] , index=my_columns )    ,   ignore_index=True  )\n",
    "\n",
    "# # final_dataframe"
   ]
  },
  {
   "cell_type": "markdown",
   "metadata": {},
   "source": [
    "BATCH API CALLS!!!!!!!!!!\n",
    "\n",
    "speeds up our code by calling for more data all at once instead 500 single requests\n"
   ]
  },
  {
   "cell_type": "code",
   "execution_count": null,
   "metadata": {},
   "outputs": [],
   "source": [
    "# function to split bigger list into smaller lists\n",
    "def chunks( lst , n  ):\n",
    "    ''' yeild successive n-sized lists from lst'''\n",
    "    for i in range( 0 , len(lst) , n ):\n",
    "        yield lst[i: i + n]\n",
    "\n",
    "# 2 dimentional list with each inner list containing 100 tickers\n",
    "symbol_groups = list(chunks( stocks['Ticker'] , 100  ) )\n",
    "symbol_strings = []\n",
    "\n",
    "# batch api calls for every list in symbol_groups, appends to final_dataframe\n",
    "for i in range( 0 , len(symbol_groups) , 1  ):\n",
    "    #takes all content in symbol_groups[i], adds them to symbol_strings[] with a comma between each stock\n",
    "    symbol_strings.append( \",\".join(symbol_groups[i])  )\n",
    "    # print(symbol_groups[i])\n",
    "\n",
    "\n",
    "# loop through every group\n",
    "# batch call the api for 100 stocks at a time\n",
    "# loop through each symbol in the group\n",
    "# append those 100 stock's data into our final_dataframe\n",
    "for string_group in symbol_strings:\n",
    "    batch_call_url = f\"https://sandbox.iexapis.com/stable/stock/market/batch?symbols={string_group}&types=quote&token={IEX_CLOUD_API_TOKEN}\"\n",
    "    data = requests.get(batch_call_url).json()\n",
    "    for symbol in string_group.split(\",\"):\n",
    "        # print(data[symbol]['quote'])\n",
    "        price = data[symbol]['quote']['latestPrice']\n",
    "        market_cap = data[symbol]['quote']['marketCap']\n",
    "        # adding a row to the pandas dataFrame\n",
    "        # WHEN APPENDING TO PANDAS DATAFRAMES, WE NEED TO ADD THE  ignore_index=True as a second parameter\n",
    "        # PANDAS SERIES NEEDS INDEXING FROM my_colmns var as a second parameter\n",
    "        final_dataframe = final_dataframe.append(  pd.Series( [symbol , price , market_cap , \"N/A\"] , index=my_columns )    ,   ignore_index=True  )\n",
    "\n",
    "\n"
   ]
  },
  {
   "cell_type": "markdown",
   "metadata": {},
   "source": [
    "CALCULATING THE NUMBER OF SHARES TO BUY"
   ]
  },
  {
   "cell_type": "code",
   "execution_count": null,
   "metadata": {},
   "outputs": [],
   "source": [
    "# validate user input for portfollio size '$$$'\n",
    "def user_portfollio_size_input(portfollio_size):\n",
    "    try:\n",
    "        val = float(portfollio_size)\n",
    "        print(f\"Your have entered: ${val}\\n\")\n",
    "        return True\n",
    "    except ValueError:\n",
    "        print(\"ERROR: Please type a numerical value\")\n",
    "        return False\n",
    "portfollio_size = input(\"Please enter value of your portfollio: $\")\n",
    "while not user_portfollio_size_input(portfollio_size):\n",
    "    portfollio_size = input(\"Please enter value of your portfollio: $\")"
   ]
  },
  {
   "cell_type": "markdown",
   "metadata": {},
   "source": [
    "PORTION OUT EQUAL AMOUNTS INTO EACH STOCK FROM SMP-500"
   ]
  },
  {
   "cell_type": "code",
   "execution_count": null,
   "metadata": {},
   "outputs": [],
   "source": [
    "val = float(portfollio_size)\n",
    "position_size = val / len(final_dataframe.index)\n",
    "# print(position_size)\n",
    "# print(len(final_dataframe.index))\n",
    "\n",
    "for x in range(  0   , len(final_dataframe.index) , 1 ):\n",
    "    final_dataframe.loc[x , \"Numbers of Shares To Buy\"] =  position_size /  final_dataframe.loc[x , \"Stock Price\"]\n",
    "\n",
    "# output\n",
    "final_dataframe\n"
   ]
  },
  {
   "cell_type": "markdown",
   "metadata": {},
   "source": [
    "SAVE PANDAS DATAFRAME INTO CSV FILE"
   ]
  },
  {
   "cell_type": "code",
   "execution_count": null,
   "metadata": {},
   "outputs": [],
   "source": [
    "# init writer objects\n",
    "writer = pd.ExcelWriter('recommended_trades.xlsx' , engine='xlsxwriter')\n",
    "final_dataframe.to_excel(writer , \"Recommended Trades\" , index = False)\n",
    "\n",
    "# writer style init\n",
    "font_color = \"ffffff\"\n",
    "background_color = \"#0a0a23\"\n",
    "\n",
    "# format style init\n",
    "string_format = writer.book.add_format(\n",
    "    {\n",
    "        'font_color' : font_color,\n",
    "        \"bg_color\" : background_color,\n",
    "        \"border\" : 1\n",
    "    }\n",
    ")\n",
    "dollar_format = writer.book.add_format(\n",
    "    {\n",
    "        'num_format' : \"$0.00\",\n",
    "        'font_color' : font_color,\n",
    "        \"bg_color\" : background_color,\n",
    "        \"border\" : 1\n",
    "    }\n",
    ")\n",
    "float_format = writer.book.add_format(\n",
    "    {\n",
    "        'num_format' : \"0.00\",\n",
    "        'font_color' : font_color,\n",
    "        \"bg_color\" : background_color,\n",
    "        \"border\" : 1\n",
    "    }\n",
    ")\n",
    "\n",
    "\n",
    "# applying formats to .xlsx file\n",
    "column_formats = {\n",
    "    'A' : ['Ticker' , string_format],\n",
    "    'B' : ['Stock Price' , dollar_format],\n",
    "    'C' : ['Market Capitalization' , dollar_format],\n",
    "    'D' : ['Number of Shares To Buy' , float_format],\n",
    "}\n",
    "for col in  column_formats.keys():\n",
    "    writer.sheets['Recommended Trades'].set_column( f\"{col}:{col}\" , 18 , column_formats[col][1] )\n",
    "    writer.sheets['Recommended Trades'].write( f\"{col}1\" , column_formats[col][0] , column_formats[col][1] )\n",
    "\n",
    "# SAVE .xlsx\n",
    "writer.save()\n",
    "# SAVE INPUTS\n",
    "with open(\"user_inputs.txt\" , \"w\") as f:\n",
    "    f.write( f\"Amount Specified: ${val}\\n\"  )\n",
    "    f.write( f\"Amount Invested Into Each Stock: ${position_size}\"  )"
   ]
  }
 ],
 "metadata": {
  "interpreter": {
   "hash": "b2762b5f3fa64b4bddd7b815ada8e289236e6457979796da29c66f5658721800"
  },
  "kernelspec": {
   "display_name": "Python 3.8.3 64-bit",
   "language": "python",
   "name": "python3"
  },
  "language_info": {
   "codemirror_mode": {
    "name": "ipython",
    "version": 3
   },
   "file_extension": ".py",
   "mimetype": "text/x-python",
   "name": "python",
   "nbconvert_exporter": "python",
   "pygments_lexer": "ipython3",
   "version": "3.8.3"
  },
  "orig_nbformat": 4
 },
 "nbformat": 4,
 "nbformat_minor": 2
}
