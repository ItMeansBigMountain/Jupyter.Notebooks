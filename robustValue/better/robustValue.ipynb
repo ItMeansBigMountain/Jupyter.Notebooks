{
 "cells": [
  {
   "cell_type": "markdown",
   "metadata": {},
   "source": [
    "# Intuitive Value Metric Measurment\n",
    "\n",
    "price to earnings ratio\n",
    "\n",
    "price to book ratio\n",
    "\n",
    "price to sales ratio\n",
    "\n",
    "Enterprice earnings divided by earnings before interest, taxes , depreciation, amorization\n",
    "\n",
    "Enterprice earnings divided by Gross Profit"
   ]
  },
  {
   "cell_type": "code",
   "execution_count": null,
   "metadata": {},
   "outputs": [],
   "source": [
    "import numpy as np\n",
    "import pandas as pd\n",
    "import xlsxwriter\n",
    "import requests\n",
    "from scipy import stats\n",
    "import math\n",
    "import statistics\n",
    "import pprint"
   ]
  },
  {
   "cell_type": "markdown",
   "metadata": {},
   "source": [
    "# Importing data\n",
    "\n",
    "Importing SMP-500 \n",
    "\n",
    "importing api token"
   ]
  },
  {
   "cell_type": "code",
   "execution_count": null,
   "metadata": {},
   "outputs": [],
   "source": [
    "# SMP 500 CSV\n",
    "stocks = pd.read_csv(\"sp_500_stocks.csv\")\n",
    "\n",
    "# api\n",
    "IEX_CLOUD_API_TOKEN = 'Tpk_059b97af715d417d9f49f50b51b1c448'\n",
    "\n",
    "stocks\n"
   ]
  },
  {
   "cell_type": "markdown",
   "metadata": {},
   "source": [
    "# TESTING METRICS\n",
    "\n",
    "please keep this code commented... just here to show variables used for value metric calculation"
   ]
  },
  {
   "cell_type": "code",
   "execution_count": null,
   "metadata": {},
   "outputs": [],
   "source": [
    "# symbol = \"AAPL\"\n",
    "# batch_api_call = f\"https://sandbox.iexapis.com/stable/stock/market/batch?symbols={symbol}&types=quote,advanced-stats&token={IEX_CLOUD_API_TOKEN}\"\n",
    "# data = requests.get( batch_api_call  ).json()\n",
    "\n",
    "# # BULK DATA\n",
    "# # pprint.pprint(data)\n",
    "\n",
    "# # Price to earnings ratio\n",
    "# pe_ratio = data[symbol]['quote']['peRatio'] \n",
    "\n",
    "# # price to book ratio\n",
    "# # NOTE - P/B ratios under 1 are typically considered solid investments.\n",
    "# pb_ratio = data[symbol]['advanced-stats']['priceToBook'] \n",
    "\n",
    "# # price to sales ratio\n",
    "# ps_ratio = data[symbol]['advanced-stats']['priceToSales'] \n",
    "\n",
    "# # Enterprice earnings divided by earnings before interest, taxes , depreciation, amorization\n",
    "# enterprise_value = data[symbol]['advanced-stats']['enterpriseValue'] \n",
    "# EBITA = data[symbol]['advanced-stats']['EBITDA'] \n",
    "# ev_to_ebita = enterprise_value / EBITA\n",
    "\n",
    "# # Enterprice earnings divided by Gross Profit\n",
    "# gross_profit = data[symbol]['advanced-stats']['grossProfit'] \n",
    "# ev_to_gross_profit = enterprise_value / gross_profit\n",
    "\n",
    "\n",
    "# print(f'{pe_ratio = }')\n",
    "# print(f'{pb_ratio = }')\n",
    "# print(f'{ps_ratio = }\\n')\n",
    "\n",
    "# print(f'{enterprise_value = }')\n",
    "# print(f'{EBITA = }')\n",
    "# print(f'{ev_to_ebita = }\\n')\n",
    "\n",
    "\n",
    "# print(f'{gross_profit = }')\n",
    "# print(f'{ev_to_gross_profit = }')"
   ]
  },
  {
   "cell_type": "markdown",
   "metadata": {},
   "source": [
    "# SORTING ALL STOCKS INTO 2D ARRAY HOLDING A LIST OF 100 STOCKS EACH\n",
    "[\n",
    "    [100],\n",
    "    [100],\n",
    "    [100],\n",
    "    [100],\n",
    "    [100],\n",
    "]\n",
    "\n",
    "# TURN EACH LIST INTO A STRING \n",
    "[\n",
    "    'X' * 100 ,\n",
    "    'X' * 100 ,\n",
    "    'X' * 100 ,\n",
    "    'X' * 100 ,\n",
    "    'X' * 100 ,\n",
    "]"
   ]
  },
  {
   "cell_type": "code",
   "execution_count": null,
   "metadata": {},
   "outputs": [],
   "source": [
    "# function to split bigger list into smaller lists\n",
    "def chunks( lst , n  ):\n",
    "    ''' yeild successive n-sized lists from lst'''\n",
    "    for i in range( 0 , len(lst) , n ):\n",
    "        yield lst[i: i + n]\n",
    "\n",
    "# 2 dimentional list with each inner list containing 100 tickers\n",
    "symbol_groups = list(chunks( stocks['Ticker'] , 100  ) )\n",
    "symbol_strings = []\n",
    "\n",
    "# turns each list into usable string for api call\n",
    "ignored_stocks = []\n",
    "for i in range( 0 , len(symbol_groups) , 1  ):\n",
    "    try:\n",
    "        joined_arr =  \",\".join(symbol_groups[i])\n",
    "        symbol_strings.append( joined_arr )\n",
    "    except:\n",
    "        ignored_stocks.append( symbol_groups[i] )\n",
    "\n",
    "ignored_stocks"
   ]
  },
  {
   "cell_type": "markdown",
   "metadata": {},
   "source": [
    "Creating final output dataframe"
   ]
  },
  {
   "cell_type": "code",
   "execution_count": null,
   "metadata": {},
   "outputs": [],
   "source": [
    "# creating columns for dataframe\n",
    "my_columns = [\n",
    "    'Ticker',\n",
    "    'Price',\n",
    "    'Number of Shares To Buy',\n",
    "    'Price to Earnings Ratio',\n",
    "    'P/E Percentile',\n",
    "    'Price to Book Ratio',\n",
    "    'P/B Percentile',\n",
    "    'Price to Sales Ratio',\n",
    "    'P/S Percentile',\n",
    "    \"EV/EBITA\",\n",
    "    \"EV/EBITA Percentile\",\n",
    "    \"EV/GP\",\n",
    "    \"EV/GP Percentile\",\n",
    "    \"Robust Value Score\"\n",
    "]\n",
    "\n",
    "final_dataframe = pd.DataFrame(columns = my_columns)\n",
    "\n",
    "# final_dataframe"
   ]
  },
  {
   "cell_type": "code",
   "execution_count": null,
   "metadata": {},
   "outputs": [],
   "source": [
    "# create url for each list of 100 stocks\n",
    "# request data for the sub list\n",
    "for group_string in symbol_strings:\n",
    "    batch_api_call = f\"https://sandbox.iexapis.com/stable/stock/market/batch?symbols={group_string}&types=quote,advanced-stats&token={IEX_CLOUD_API_TOKEN}\"\n",
    "    data = requests.get( batch_api_call ).json()\n",
    "\n",
    "    # arr of every ticker in sub list\n",
    "    stock_array_in_sub_list = group_string.split(',')\n",
    "    for symbol in stock_array_in_sub_list:\n",
    "        symbol = symbol.upper()\n",
    "        if symbol not in data:\n",
    "            ignored_stocks.append(symbol)\n",
    "            continue\n",
    "\n",
    "        # fundementals\n",
    "        price = data[symbol]['quote']['latestPrice'] \n",
    "        enterprise_value = data[symbol]['advanced-stats']['enterpriseValue'] \n",
    "        EBITA = data[symbol]['advanced-stats']['EBITDA'] \n",
    "        gross_profit = data[symbol]['advanced-stats']['grossProfit'] \n",
    "\n",
    "        # price ratios\n",
    "        pe_ratio = data[symbol]['quote']['peRatio'] \n",
    "        pb_ratio = data[symbol]['advanced-stats']['priceToBook'] \n",
    "        ps_ratio = data[symbol]['advanced-stats']['priceToSales'] \n",
    "        \n",
    "        # enterprise ratios (some EBITA datapoints come out as NONE-TYPE)\n",
    "        \n",
    "        try: # EBITA\n",
    "            ev_to_ebita = enterprise_value / EBITA\n",
    "        except TypeError:\n",
    "            print(symbol, \": N/A - EBITA\")\n",
    "            ev_to_ebita = np.NaN\n",
    "        \n",
    "        try: # GROSS PROFITS\n",
    "            ev_to_gross_profit = enterprise_value / gross_profit\n",
    "        except TypeError:\n",
    "            print(symbol, \": N/A - Gross Profit\")\n",
    "            ev_to_gross_profit = np.NaN\n",
    "\n",
    "\n",
    "        #***** append to final_dataframe *****\n",
    "        final_dataframe = final_dataframe.append(\n",
    "            pd.Series(\n",
    "                [\n",
    "                    symbol,\n",
    "                    price,\n",
    "                    \"N/A\",\n",
    "                    pe_ratio,\n",
    "                    \"N/A\",\n",
    "                    pb_ratio,\n",
    "                    \"N/A\",\n",
    "                    ps_ratio,\n",
    "                    \"N/A\",\n",
    "                    ev_to_ebita,\n",
    "                    \"N/A\",\n",
    "                    ev_to_gross_profit,\n",
    "                    \"N/A\",\n",
    "                    \"N/A\",\n",
    "                ],\n",
    "                index = my_columns \n",
    "            ),\n",
    "            ignore_index = True #index will automatically be calculated for you on the pandas data frame\n",
    "        )\n",
    "\n",
    "\n",
    "# final_dataframe"
   ]
  },
  {
   "cell_type": "markdown",
   "metadata": {},
   "source": [
    "DEALING WITH MISSING DATA FROM NONE-TYPES"
   ]
  },
  {
   "cell_type": "code",
   "execution_count": null,
   "metadata": {},
   "outputs": [],
   "source": [
    "# finding missing data\n",
    "# final_dataframe[ final_dataframe.isnull().any(axis=1) ]"
   ]
  },
  {
   "cell_type": "code",
   "execution_count": null,
   "metadata": {},
   "outputs": [],
   "source": [
    "# MODIFY ALL NULL TYPES IN DATAFRAME INTO THE AVERAGE OF FOUND NUMBERS SUCH COLUMN\n",
    "numerical_columns = [\n",
    "    'Price to Earnings Ratio',\n",
    "    'Price to Book Ratio',\n",
    "    'Price to Sales Ratio',\n",
    "    'EV/EBITA',\n",
    "    'EV/GP'\n",
    "]\n",
    "\n",
    "for col in numerical_columns:\n",
    "    final_dataframe.fillna(final_dataframe[col].mean() , inplace = True)\n",
    "\n",
    "\n",
    "\n",
    "\n",
    "# check if there are any nonetypes\n",
    "# NOTE dataframe should be empty (run code below to see missing data stocks)\n",
    "# final_dataframe[ final_dataframe.isnull().any(axis=1) ]\n",
    "\n",
    "\n",
    "\n",
    "# NOTE all NONE-TYPES are replaced with average of found numbers in that column\n",
    "# final_dataframe"
   ]
  },
  {
   "cell_type": "markdown",
   "metadata": {},
   "source": [
    "# CALCULATING VALUE PERCENTILES\n",
    "\n",
    "    'P/E Percentile'\n",
    "    'P/B Percentile'\n",
    "    'P/S Percentile'\n",
    "    \"EV/EBITA Percentile\"\n",
    "    \"EV/GP Percentile\""
   ]
  },
  {
   "cell_type": "code",
   "execution_count": null,
   "metadata": {},
   "outputs": [],
   "source": [
    "metrics = {\n",
    "    'Price to Earnings Ratio' : 'P/E Percentile',\n",
    "    'Price to Book Ratio' : 'P/B Percentile',\n",
    "    'Price to Sales Ratio' : 'P/S Percentile',\n",
    "    \"EV/EBITA\" : \"EV/EBITA Percentile\",\n",
    "    \"EV/GP\" : \"EV/GP Percentile\"\n",
    "}\n",
    "\n",
    "for metric in metrics.keys():\n",
    "    for row in final_dataframe.index:\n",
    "        # finding percentile of current row vs entire column\n",
    "        final_dataframe.loc[ row , metrics[metric]  ] = stats.percentileofscore( \n",
    "            final_dataframe[ metric ] , #entire column\n",
    "            final_dataframe.loc[ row  , metric  ] #comparison value\n",
    "          ) / 100\n",
    "\n",
    "\n",
    "# final_dataframe"
   ]
  },
  {
   "cell_type": "markdown",
   "metadata": {},
   "source": [
    "# CALCULATING RV SCORE\n",
    "\n",
    "robust value score - mean of percentile scores of value metrics\n",
    "\n",
    "    'P/E Percentile'\n",
    "    'P/B Percentile'\n",
    "    'P/S Percentile'\n",
    "    \"EV/EBITA Percentile\"\n",
    "    \"EV/GP Percentile\"\n"
   ]
  },
  {
   "cell_type": "code",
   "execution_count": null,
   "metadata": {},
   "outputs": [],
   "source": [
    "\n",
    "for row in final_dataframe.index:\n",
    "    value_metrics = []\n",
    "    for metric in metrics.keys():\n",
    "        value_metrics.append(  final_dataframe.loc[  row ,  metrics[metric] ]  )\n",
    "    final_dataframe.loc[ row  , 'Robust Value Score'  ] = statistics.mean( value_metrics )\n",
    "\n",
    "\n",
    "# final_dataframe"
   ]
  },
  {
   "cell_type": "markdown",
   "metadata": {},
   "source": [
    "# SELECTING 50 BEST STOCKS"
   ]
  },
  {
   "cell_type": "code",
   "execution_count": null,
   "metadata": {},
   "outputs": [],
   "source": [
    "# Sorting values in DECENDING order and saving it for later use using INPLACE = TRUE\n",
    "final_dataframe.sort_values( 'Robust Value Score' , ascending = True , inplace = True  )\n",
    "\n",
    "# save final_dataframe[:50] as original \n",
    "final_dataframe = final_dataframe[:50]\n",
    "\n",
    "# Resetting index of sorted data_frame\n",
    "final_dataframe.reset_index(  inplace = True  )\n",
    "\n",
    "# # removing Old Index Column\n",
    "final_dataframe.drop(labels='index', axis= 'columns', inplace=True, errors='raise')\n",
    "\n",
    "# final_dataframe"
   ]
  },
  {
   "cell_type": "markdown",
   "metadata": {},
   "source": [
    "# CALCULATING AMOUNT OF SHARES TO BUY\n",
    "    equal basket "
   ]
  },
  {
   "cell_type": "code",
   "execution_count": null,
   "metadata": {},
   "outputs": [],
   "source": [
    "# validate user input for portfollio size '$$$'\n",
    "def user_portfollio_size_input(portfollio_size):\n",
    "    try:\n",
    "        val = float(portfollio_size)\n",
    "        print(f\"Your have entered: ${val}\\n\")\n",
    "        return True\n",
    "    except ValueError:\n",
    "        print(\"ERROR: Please type a numerical value\")\n",
    "        return False\n",
    "\n",
    "portfollio_size = input(\"Please enter value of your portfollio: $\")\n",
    "while not user_portfollio_size_input(portfollio_size):\n",
    "    portfollio_size = input(\"Please enter value of your portfollio: $\")"
   ]
  },
  {
   "cell_type": "code",
   "execution_count": null,
   "metadata": {},
   "outputs": [],
   "source": [
    "# calculate position size\n",
    "position_size = float(portfollio_size) / len(final_dataframe.index)\n",
    "print(f\"Your position size is ${'{:,.2f}'.format(position_size)}\")"
   ]
  },
  {
   "cell_type": "code",
   "execution_count": null,
   "metadata": {},
   "outputs": [],
   "source": [
    "# update final data frame\n",
    "for x in range(0 , len(final_dataframe) , 1):\n",
    "    final_dataframe.loc[x , \"Number of Shares To Buy\"] =  position_size /  final_dataframe.loc[x , \"Price\"]\n",
    "\n",
    "\n",
    "final_dataframe"
   ]
  },
  {
   "cell_type": "markdown",
   "metadata": {},
   "source": [
    "# CREATING EXCEL FILE"
   ]
  },
  {
   "cell_type": "code",
   "execution_count": null,
   "metadata": {},
   "outputs": [],
   "source": [
    "# init writer objects\n",
    "writer = pd.ExcelWriter('Robust_Value_Dataframe.xlsx' , engine='xlsxwriter')\n",
    "final_dataframe.to_excel(writer , \"Robust Value Metrics\" , index = False)\n",
    "\n",
    "# writer style init\n",
    "font_color = \"ffffff\"\n",
    "background_color = \"#0a0a23\"\n",
    "\n",
    "# format style init\n",
    "string_format = writer.book.add_format(\n",
    "    {\n",
    "        'font_color' : font_color,\n",
    "        \"bg_color\" : background_color,\n",
    "        \"border\" : 1\n",
    "    }\n",
    ")\n",
    "dollar_format = writer.book.add_format(\n",
    "    {\n",
    "        'num_format' : \"$0.00\",\n",
    "        'font_color' : font_color,\n",
    "        \"bg_color\" : background_color,\n",
    "        \"border\" : 1\n",
    "    }\n",
    ")\n",
    "float_format = writer.book.add_format(\n",
    "    {\n",
    "        'num_format' : \"0.00\",\n",
    "        'font_color' : font_color,\n",
    "        \"bg_color\" : background_color,\n",
    "        \"border\" : 1\n",
    "    }\n",
    ")\n",
    "percent_format = writer.book.add_format(\n",
    "    {\n",
    "        'num_format' : \"0.00%\",\n",
    "        'font_color' : font_color,\n",
    "        \"bg_color\" : background_color,\n",
    "        \"border\" : 1\n",
    "    }\n",
    ")\n",
    "\n",
    "# applying formats to .xlsx file\n",
    "column_formats = {\n",
    "    'A' : ['Ticker' , string_format],\n",
    "    'B' : ['Price' , dollar_format],\n",
    "    'C' : ['Number of Shares To Buy' , float_format],\n",
    "    'D' : ['Price to Earnings Ratio' , float_format],\n",
    "    'E' : ['P/E Percentile' , percent_format],\n",
    "    'F' : ['Price to Book Ratio' , float_format],\n",
    "    'G' : ['P/B Percentile' , percent_format],\n",
    "    'I' : ['Price to Sales Ratio' , float_format],\n",
    "    'J' : ['P/S Percentile' , percent_format],\n",
    "    'K' : ['EV/EBITA' , float_format],\n",
    "    'L' : ['EV/EBITA Percentile' , percent_format],\n",
    "    'M' : ['EV/GP' , float_format],\n",
    "    'N' : ['EV/GP Percentile' , percent_format],\n",
    "    'O' : ['Robust Value Score' , percent_format],\n",
    "}\n",
    "# loop through formats and apply to excel sheet columns\n",
    "for col in  column_formats.keys():\n",
    "\n",
    "    # columns format\n",
    "    writer.sheets[\"Robust Value Metrics\"].set_column( f\"{col}:{col}\" , 15 , column_formats[col][1] )\n",
    "\n",
    "    # headers format\n",
    "    writer.sheets[\"Robust Value Metrics\"].write( f\"{col}1\" , column_formats[col][0] , column_formats[col][1] )\n",
    "\n",
    "\n",
    "# SAVE .xlsx\n",
    "writer.save()\n",
    "\n",
    "\n",
    "\n",
    "# SAVE INPUTS\n",
    "with open(\"user_inputs.txt\" , \"w\") as f:\n",
    "    f.write( f\"Amount Specified: ${float(portfollio_size)}\\n\"  )\n",
    "    f.write( f\"Amount Invested Into Each Stock: ${position_size}\\n\\n\"  )\n",
    "    f.write( \"------ IGNORED STOCKS ------\" )\n",
    "    if len(ignored_stocks) > 0 :\n",
    "        f.write(\"\\n\" + str(ignored_stocks)  )\n",
    "    else:\n",
    "        f.write(\"NONE\")"
   ]
  },
  {
   "cell_type": "code",
   "execution_count": null,
   "metadata": {},
   "outputs": [],
   "source": [
    "for row in final_dataframe.index:\n",
    "    print(final_dataframe.loc[row , \"Robust Value Score\"])"
   ]
  }
 ],
 "metadata": {
  "interpreter": {
   "hash": "b2762b5f3fa64b4bddd7b815ada8e289236e6457979796da29c66f5658721800"
  },
  "kernelspec": {
   "display_name": "Python 3.8.3 64-bit",
   "language": "python",
   "name": "python3"
  },
  "language_info": {
   "codemirror_mode": {
    "name": "ipython",
    "version": 3
   },
   "file_extension": ".py",
   "mimetype": "text/x-python",
   "name": "python",
   "nbconvert_exporter": "python",
   "pygments_lexer": "ipython3",
   "version": "3.8.3"
  },
  "orig_nbformat": 4
 },
 "nbformat": 4,
 "nbformat_minor": 2
}
