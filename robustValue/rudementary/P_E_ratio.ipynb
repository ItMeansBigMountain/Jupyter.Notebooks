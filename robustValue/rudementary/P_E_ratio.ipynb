{
 "cells": [
  {
   "cell_type": "markdown",
   "metadata": {},
   "source": [
    "# QUANTITATIVE VALUE METRICS\n",
    "\n",
    "value investing - investing in stocks that are the cheapest relative to common measures of business ie: earnings / assets\n",
    "\n",
    "# PRICE TO EARNINGS RATIO - stock price / Yearly Earnings Forcast\n",
    "\n",
    "always strictly define your P/E Ratio because there are many different metrics on finding this ratio... "
   ]
  },
  {
   "cell_type": "code",
   "execution_count": 35,
   "metadata": {},
   "outputs": [],
   "source": [
    "import numpy as np\n",
    "import pandas as pd\n",
    "import xlsxwriter\n",
    "import requests\n",
    "from scipy import stats\n",
    "import math"
   ]
  },
  {
   "cell_type": "markdown",
   "metadata": {},
   "source": [
    "Importing Stocks and API token"
   ]
  },
  {
   "cell_type": "code",
   "execution_count": 36,
   "metadata": {},
   "outputs": [],
   "source": [
    "# SMP 500 CSV\n",
    "stocks = pd.read_csv(\"sp_500_stocks.csv\")\n",
    "\n",
    "# api\n",
    "IEX_CLOUD_API_TOKEN = 'Tpk_059b97af715d417d9f49f50b51b1c448'"
   ]
  },
  {
   "cell_type": "markdown",
   "metadata": {},
   "source": [
    "# SORTING ALL STOCKS INTO 2D ARRAY HOLDING A LIST OF 100 STOCKS EACH\n",
    "[\n",
    "    [100],\n",
    "    [100],\n",
    "    [100],\n",
    "    [100],\n",
    "    [100],\n",
    "]\n",
    "\n",
    "# TURN EACH LIST INTO A STRING \n",
    "[\n",
    "    'X' * 100 ,\n",
    "    'X' * 100 ,\n",
    "    'X' * 100 ,\n",
    "    'X' * 100 ,\n",
    "    'X' * 100 ,\n",
    "]"
   ]
  },
  {
   "cell_type": "code",
   "execution_count": 37,
   "metadata": {},
   "outputs": [],
   "source": [
    "# function to split bigger list into smaller lists\n",
    "def chunks( lst , n  ):\n",
    "    ''' yeild successive n-sized lists from lst'''\n",
    "    for i in range( 0 , len(lst) , n ):\n",
    "        yield lst[i: i + n]\n",
    "\n",
    "# 2 dimentional list with each inner list containing 100 tickers\n",
    "symbol_groups = list(chunks( stocks['Ticker'] , 100  ) )\n",
    "symbol_strings = []\n",
    "\n",
    "# turns each list into usable string for api call\n",
    "for i in range( 0 , len(symbol_groups) , 1  ):\n",
    "    joined_arr =  \",\".join(symbol_groups[i])\n",
    "    symbol_strings.append( joined_arr )\n"
   ]
  },
  {
   "cell_type": "markdown",
   "metadata": {},
   "source": [
    "CREATING FINAL OUTPUT DATAFRAME"
   ]
  },
  {
   "cell_type": "code",
   "execution_count": 38,
   "metadata": {},
   "outputs": [],
   "source": [
    "# creating columns for dataframe\n",
    "my_columns = [\n",
    "    'Ticker',\n",
    "    'Price',\n",
    "    'P/E Ratio',\n",
    "    'Number of Shares To Buy',\n",
    "]\n",
    "\n",
    "final_dataframe = pd.DataFrame(columns = my_columns)"
   ]
  },
  {
   "cell_type": "markdown",
   "metadata": {},
   "source": [
    "# BATCH API CALLS to get market data\n",
    "\n",
    "Also populates final_dataframe"
   ]
  },
  {
   "cell_type": "code",
   "execution_count": 39,
   "metadata": {},
   "outputs": [],
   "source": [
    "# create url for each list of 100 stocks\n",
    "# request data for the sub list\n",
    "for group_string in symbol_strings:\n",
    "    batch_api_call = f\"https://sandbox.iexapis.com/stable/stock/market/batch?symbols={group_string}&types=quote&token={IEX_CLOUD_API_TOKEN}\"\n",
    "    data = requests.get( batch_api_call ).json()\n",
    "\n",
    "    # arr of every ticker in sub list\n",
    "    stock_array_in_sub_list = group_string.split(',')\n",
    "    for symbol in stock_array_in_sub_list:\n",
    "        price = data[symbol]['quote']['latestPrice']\n",
    "        pe_ratio = data[symbol]['quote']['peRatio']\n",
    "        \n",
    "        #NOTE ***** append to final_dataframe *****\n",
    "        final_dataframe = final_dataframe.append(\n",
    "            pd.Series(\n",
    "                [\n",
    "                    symbol,\n",
    "                    price,\n",
    "                    pe_ratio,\n",
    "                    \"N/A\"\n",
    "                ],\n",
    "                index = my_columns\n",
    "            ),\n",
    "            ignore_index = True\n",
    "        )\n",
    "\n",
    "\n",
    "# final_dataframe"
   ]
  },
  {
   "cell_type": "markdown",
   "metadata": {},
   "source": [
    "# Selecting top 50 stocks"
   ]
  },
  {
   "cell_type": "code",
   "execution_count": 40,
   "metadata": {},
   "outputs": [],
   "source": [
    "# Sorting values in DECENDING order and saving it for later use using INPLACE = TRUE\n",
    "final_dataframe.sort_values( \"P/E Ratio\" , ascending = False , inplace = True   )\n",
    "\n",
    "# Remove all stocks that have negative P/E ratios (they lost money this year)\n",
    "losers = final_dataframe[final_dataframe[\"P/E Ratio\"]  < 0 ]\n",
    "final_dataframe =  final_dataframe[final_dataframe[\"P/E Ratio\"]  > 0 ]\n",
    "\n",
    "# save final_dataframe[:50] as original \n",
    "# final_dataframe = final_dataframe[:50]\n",
    "\n",
    "# Resetting index of sorted data_frame\n",
    "final_dataframe.reset_index(  inplace = True , drop = True )\n",
    "\n",
    "# # removing Old Index Column\n",
    "# final_dataframe.drop(labels='index', axis= 'columns', inplace=True, errors='raise')\n",
    "\n",
    "# final_dataframe\n",
    "# losers"
   ]
  },
  {
   "cell_type": "markdown",
   "metadata": {},
   "source": [
    "CALCULATING NUMBER OF SHARES TO BUY"
   ]
  },
  {
   "cell_type": "code",
   "execution_count": 42,
   "metadata": {},
   "outputs": [
    {
     "name": "stdout",
     "output_type": "stream",
     "text": [
      "Your have entered: $10000.0\n",
      "\n",
      "Your position size is $21.46\n"
     ]
    }
   ],
   "source": [
    "# validate user input for portfollio size '$$$'\n",
    "def user_portfollio_size_input(portfollio_size):\n",
    "    try:\n",
    "        val = float(portfollio_size)\n",
    "        print(f\"Your have entered: ${val}\\n\")\n",
    "        return True\n",
    "    except ValueError:\n",
    "        print(\"ERROR: Please type a numerical value\")\n",
    "        return False\n",
    "\n",
    "portfollio_size = input(\"Please enter value of your portfollio: $\")\n",
    "while not user_portfollio_size_input(portfollio_size):\n",
    "    portfollio_size = input(\"Please enter value of your portfollio: $\")\n",
    "\n",
    "# calculate position size\n",
    "portfollio_size = float(portfollio_size)\n",
    "position_size = float(portfollio_size) / len(final_dataframe.index)\n",
    "print(f\"Your position size is ${'{:,.2f}'.format(position_size)}\")"
   ]
  },
  {
   "cell_type": "code",
   "execution_count": 43,
   "metadata": {},
   "outputs": [
    {
     "data": {
      "text/html": [
       "<div>\n",
       "<style scoped>\n",
       "    .dataframe tbody tr th:only-of-type {\n",
       "        vertical-align: middle;\n",
       "    }\n",
       "\n",
       "    .dataframe tbody tr th {\n",
       "        vertical-align: top;\n",
       "    }\n",
       "\n",
       "    .dataframe thead th {\n",
       "        text-align: right;\n",
       "    }\n",
       "</style>\n",
       "<table border=\"1\" class=\"dataframe\">\n",
       "  <thead>\n",
       "    <tr style=\"text-align: right;\">\n",
       "      <th></th>\n",
       "      <th>Ticker</th>\n",
       "      <th>Price</th>\n",
       "      <th>P/E Ratio</th>\n",
       "      <th>Number of Shares To Buy</th>\n",
       "    </tr>\n",
       "  </thead>\n",
       "  <tbody>\n",
       "    <tr>\n",
       "      <th>0</th>\n",
       "      <td>LUV</td>\n",
       "      <td>42.650</td>\n",
       "      <td>13065.7</td>\n",
       "      <td>0.503147</td>\n",
       "    </tr>\n",
       "    <tr>\n",
       "      <th>1</th>\n",
       "      <td>HLT</td>\n",
       "      <td>160.500</td>\n",
       "      <td>1166.25</td>\n",
       "      <td>0.133702</td>\n",
       "    </tr>\n",
       "    <tr>\n",
       "      <th>2</th>\n",
       "      <td>NOW</td>\n",
       "      <td>681.030</td>\n",
       "      <td>631.88</td>\n",
       "      <td>0.03151</td>\n",
       "    </tr>\n",
       "    <tr>\n",
       "      <th>3</th>\n",
       "      <td>ALK</td>\n",
       "      <td>53.280</td>\n",
       "      <td>513.45</td>\n",
       "      <td>0.402763</td>\n",
       "    </tr>\n",
       "    <tr>\n",
       "      <th>4</th>\n",
       "      <td>UDR</td>\n",
       "      <td>60.930</td>\n",
       "      <td>331.94</td>\n",
       "      <td>0.352195</td>\n",
       "    </tr>\n",
       "    <tr>\n",
       "      <th>...</th>\n",
       "      <td>...</td>\n",
       "      <td>...</td>\n",
       "      <td>...</td>\n",
       "      <td>...</td>\n",
       "    </tr>\n",
       "    <tr>\n",
       "      <th>461</th>\n",
       "      <td>HPQ</td>\n",
       "      <td>38.250</td>\n",
       "      <td>3.68</td>\n",
       "      <td>0.561026</td>\n",
       "    </tr>\n",
       "    <tr>\n",
       "      <th>462</th>\n",
       "      <td>COO</td>\n",
       "      <td>435.481</td>\n",
       "      <td>3.68</td>\n",
       "      <td>0.0492771</td>\n",
       "    </tr>\n",
       "    <tr>\n",
       "      <th>463</th>\n",
       "      <td>EBAY</td>\n",
       "      <td>66.410</td>\n",
       "      <td>3.63</td>\n",
       "      <td>0.323132</td>\n",
       "    </tr>\n",
       "    <tr>\n",
       "      <th>464</th>\n",
       "      <td>BIO</td>\n",
       "      <td>765.040</td>\n",
       "      <td>3.62</td>\n",
       "      <td>0.0280498</td>\n",
       "    </tr>\n",
       "    <tr>\n",
       "      <th>465</th>\n",
       "      <td>HPE</td>\n",
       "      <td>16.100</td>\n",
       "      <td>3.1</td>\n",
       "      <td>1.33287</td>\n",
       "    </tr>\n",
       "  </tbody>\n",
       "</table>\n",
       "<p>466 rows × 4 columns</p>\n",
       "</div>"
      ],
      "text/plain": [
       "    Ticker    Price P/E Ratio Number of Shares To Buy\n",
       "0      LUV   42.650   13065.7                0.503147\n",
       "1      HLT  160.500   1166.25                0.133702\n",
       "2      NOW  681.030    631.88                 0.03151\n",
       "3      ALK   53.280    513.45                0.402763\n",
       "4      UDR   60.930    331.94                0.352195\n",
       "..     ...      ...       ...                     ...\n",
       "461    HPQ   38.250      3.68                0.561026\n",
       "462    COO  435.481      3.68               0.0492771\n",
       "463   EBAY   66.410      3.63                0.323132\n",
       "464    BIO  765.040      3.62               0.0280498\n",
       "465    HPE   16.100       3.1                 1.33287\n",
       "\n",
       "[466 rows x 4 columns]"
      ]
     },
     "execution_count": 43,
     "metadata": {},
     "output_type": "execute_result"
    }
   ],
   "source": [
    "# update final data frame\n",
    "for x in range(0 , len(final_dataframe) , 1):\n",
    "    final_dataframe.loc[x , \"Number of Shares To Buy\"] =  position_size /  final_dataframe.loc[x , \"Price\"]\n",
    "\n",
    "\n",
    "final_dataframe"
   ]
  }
 ],
 "metadata": {
  "interpreter": {
   "hash": "b2762b5f3fa64b4bddd7b815ada8e289236e6457979796da29c66f5658721800"
  },
  "kernelspec": {
   "display_name": "Python 3.8.3 64-bit",
   "language": "python",
   "name": "python3"
  },
  "language_info": {
   "codemirror_mode": {
    "name": "ipython",
    "version": 3
   },
   "file_extension": ".py",
   "mimetype": "text/x-python",
   "name": "python",
   "nbconvert_exporter": "python",
   "pygments_lexer": "ipython3",
   "version": "3.8.3"
  },
  "orig_nbformat": 4
 },
 "nbformat": 4,
 "nbformat_minor": 2
}
